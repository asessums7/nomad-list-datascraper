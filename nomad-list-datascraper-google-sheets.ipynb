{
 "cells": [
  {
   "cell_type": "code",
   "execution_count": 5,
   "metadata": {},
   "outputs": [
    {
     "data": {
      "text/plain": [
       "' pip install beautifulsoup4\\npip install emoji '"
      ]
     },
     "execution_count": 5,
     "metadata": {},
     "output_type": "execute_result"
    }
   ],
   "source": [
    "\"\"\" pip install beautifulsoup4\n",
    "pip install emoji \"\"\""
   ]
  },
  {
   "cell_type": "code",
   "execution_count": 6,
   "metadata": {},
   "outputs": [],
   "source": [
    "# pip install gspread google-auth"
   ]
  },
  {
   "cell_type": "code",
   "execution_count": 7,
   "metadata": {},
   "outputs": [],
   "source": [
    "# Import Libraries\n",
    "from bs4 import BeautifulSoup\n",
    "import requests\n",
    "import gspread\n",
    "from google.auth import exceptions\n",
    "from google.auth.transport.requests import Request\n",
    "from google.oauth2.service_account import Credentials\n",
    "import pandas as pd\n",
    "import time\n",
    "\n",
    "import pygsheets"
   ]
  },
  {
   "cell_type": "code",
   "execution_count": 8,
   "metadata": {},
   "outputs": [],
   "source": [
    "#authorization\n",
    "gc = pygsheets.authorize(service_file='/Users/asessums/Desktop/nomad-list-datascraper/credentials.json')"
   ]
  },
  {
   "cell_type": "code",
   "execution_count": 9,
   "metadata": {},
   "outputs": [
    {
     "name": "stdout",
     "output_type": "stream",
     "text": [
      "Extracting data for Berlin from https://nomadlist.com/berlin\n"
     ]
    },
    {
     "name": "stderr",
     "output_type": "stream",
     "text": [
      "/Users/asessums/miniforge3/envs/stenv/lib/python3.10/site-packages/soupsieve/css_parser.py:876: FutureWarning: The pseudo class ':contains' is deprecated, ':-soup-contains' should be used moving forward.\n",
      "  warnings.warn(\n"
     ]
    },
    {
     "ename": "KeyboardInterrupt",
     "evalue": "",
     "output_type": "error",
     "traceback": [
      "\u001b[0;31m---------------------------------------------------------------------------\u001b[0m",
      "\u001b[0;31mKeyboardInterrupt\u001b[0m                         Traceback (most recent call last)",
      "\u001b[1;32m/Users/asessums/Desktop/nomad-list-datascraper/nomad-list-datascraper-google-sheets.ipynb Cell 5'\u001b[0m in \u001b[0;36m<cell line: 70>\u001b[0;34m()\u001b[0m\n\u001b[1;32m     <a href='vscode-notebook-cell:/Users/asessums/Desktop/nomad-list-datascraper/nomad-list-datascraper-google-sheets.ipynb#ch0000004?line=77'>78</a>\u001b[0m     all_data\u001b[39m.\u001b[39mextend(city_data)\n\u001b[1;32m     <a href='vscode-notebook-cell:/Users/asessums/Desktop/nomad-list-datascraper/nomad-list-datascraper-google-sheets.ipynb#ch0000004?line=79'>80</a>\u001b[0m     \u001b[39m# Add a delay of 20 seconds between requests\u001b[39;00m\n\u001b[0;32m---> <a href='vscode-notebook-cell:/Users/asessums/Desktop/nomad-list-datascraper/nomad-list-datascraper-google-sheets.ipynb#ch0000004?line=80'>81</a>\u001b[0m     time\u001b[39m.\u001b[39;49msleep(\u001b[39m20\u001b[39;49m)\n\u001b[1;32m     <a href='vscode-notebook-cell:/Users/asessums/Desktop/nomad-list-datascraper/nomad-list-datascraper-google-sheets.ipynb#ch0000004?line=82'>83</a>\u001b[0m \u001b[39m# Create Pandas DataFrame\u001b[39;00m\n\u001b[1;32m     <a href='vscode-notebook-cell:/Users/asessums/Desktop/nomad-list-datascraper/nomad-list-datascraper-google-sheets.ipynb#ch0000004?line=83'>84</a>\u001b[0m headers \u001b[39m=\u001b[39m [\u001b[39m\"\u001b[39m\u001b[39mCity\u001b[39m\u001b[39m\"\u001b[39m, \u001b[39m\"\u001b[39m\u001b[39mLabel\u001b[39m\u001b[39m\"\u001b[39m, \u001b[39m\"\u001b[39m\u001b[39mQuality Rating\u001b[39m\u001b[39m\"\u001b[39m, \u001b[39m\"\u001b[39m\u001b[39mData Value\u001b[39m\u001b[39m\"\u001b[39m, \u001b[39m\"\u001b[39m\u001b[39mContinent\u001b[39m\u001b[39m\"\u001b[39m, \u001b[39m\"\u001b[39m\u001b[39mCountry\u001b[39m\u001b[39m\"\u001b[39m]\n",
      "\u001b[0;31mKeyboardInterrupt\u001b[0m: "
     ]
    }
   ],
   "source": [
    "# Function to extract data from a given URL\n",
    "def extract_data(url, city_name):\n",
    "    print(f\"Extracting data for {city_name} from {url}\")\n",
    "    response = requests.get(url)\n",
    "\n",
    "    # Check if the request was successful\n",
    "    if response.status_code != 200:\n",
    "        print(f\"Failed to retrieve data for {city_name}. Status code: {response.status_code}\")\n",
    "        return []\n",
    "\n",
    "    html_content = response.content\n",
    "    soup = BeautifulSoup(html_content, 'html.parser')\n",
    "\n",
    "    # Extract details from the <tr> elements\n",
    "    details_rows = soup.select('table.details tr')\n",
    "    city_data = []\n",
    "\n",
    "    # Extract Continent and Country\n",
    "    continent = soup.select_one('td.key:contains(\"Continent\") + td.value a')['title']\n",
    "    country = soup.select_one('td.key:contains(\"Country\") + td.value a')['title']\n",
    "\n",
    "    for row in details_rows:\n",
    "        key_element = row.select_one('.key')\n",
    "        value_element = row.select_one('.value')\n",
    "\n",
    "        if not key_element or not value_element:\n",
    "            print(f\"Skipping row for {city_name} as key or value element is missing.\")\n",
    "            continue\n",
    "\n",
    "        # Extract label, data value, and div value\n",
    "        label = key_element.text.strip()\n",
    "        data_value = None\n",
    "        quality_rating = None\n",
    "\n",
    "        if value_element.select_one('.filling'):\n",
    "            # Check if div_value is a number\n",
    "            try:\n",
    "                data_value = float(value_element.select_one('.filling').text.strip())\n",
    "            except ValueError:\n",
    "                quality_rating = value_element.select_one('.filling').text.strip()\n",
    "\n",
    "        elif value_element.select_one('.rating'):\n",
    "            data_value = float(value_element.select_one('.rating')['data-value'])\n",
    "            quality_rating = value_element.select_one('.filling').text.strip()\n",
    "        else:\n",
    "            quality_rating = value_element.text.strip()\n",
    "\n",
    "        # Append to the city_data list\n",
    "        city_data.append([city_name, label, quality_rating, data_value, continent, country])\n",
    "\n",
    "    return city_data\n",
    "\n",
    "# List of cities with their URLs\n",
    "cities = [\n",
    "    {\"name\": \"Berlin\", \"url\": \"https://nomadlist.com/berlin\"},\n",
    "    {\"name\": \"Stockholm\", \"url\": \"https://nomadlist.com/stockholm\"},\n",
    "    # {\"name\": \"Barcelona\", \"url\": \"https://nomadlist.com/barcelona\"},\n",
    "    # {\"name\": \"Delhi\", \"url\": \"https://nomadlist.com/delhi\"},\n",
    "    # {\"name\": \"Tokyo\", \"url\": \"https://nomadlist.com/tokyo\"},\n",
    "    # {\"name\": \"Lagos\", \"url\": \"https://nomadlist.com/lagos\"},\n",
    "    # {\"name\": \"Nairobi\", \"url\": \"https://nomadlist.com/nairobi\"},\n",
    "    # {\"name\": \"Cape Town\", \"url\": \"https://nomadlist.com/cape-town\"},\n",
    "    # {\"name\": \"Lisboa\", \"url\": \"https://nomadlist.com/lisbon\"},\n",
    "    # ... (add more cities here)\n",
    "]\n",
    "\n",
    "# Iterate over cities\n",
    "all_data = []\n",
    "\n",
    "for city in cities:\n",
    "    city_name = city[\"name\"]\n",
    "    city_url = city[\"url\"]\n",
    "\n",
    "    # Extract data for the current city\n",
    "    city_data = extract_data(city_url, city_name)\n",
    "\n",
    "    # Extend all_data with the individual data points for each city\n",
    "    all_data.extend(city_data)\n",
    "\n",
    "    # Add a delay of 20 seconds between requests\n",
    "    time.sleep(20)\n",
    "\n",
    "# Create Pandas DataFrame\n",
    "headers = [\"City\", \"Label\", \"Quality Rating\", \"Data Value\", \"Continent\", \"Country\"]\n",
    "df = pd.DataFrame(all_data, columns=headers)\n",
    "\n",
    "df.tail(10)\n",
    "\n",
    "# Create Pandas DataFrame with adjusted column order\n",
    "headers = [\"City\", \"Label\", \"Quality Rating\", \"Data Value\", \"Continent\", \"Country\"]\n",
    "df = pd.DataFrame(all_data, columns=headers)\n",
    "\n",
    "df.tail(10)"
   ]
  },
  {
   "cell_type": "code",
   "execution_count": null,
   "metadata": {},
   "outputs": [],
   "source": [
    "# Move dataframe into a Google sheet\n",
    "spreadsheet = gc.open('Digital Nomad List')\n",
    "\n",
    "#select the first sheet \n",
    "worksheet = spreadsheet[0]\n",
    "\n",
    "#update the first sheet with df, starting at cell B2. \n",
    "worksheet.set_dataframe(df,(1,1))"
   ]
  }
 ],
 "metadata": {
  "interpreter": {
   "hash": "521e364a13dc40c1f2f2165fa1ca426f845b26ae1e9abf55d267e8ebb9619218"
  },
  "kernelspec": {
   "display_name": "Python 3.10.6 ('stenv')",
   "language": "python",
   "name": "python3"
  },
  "language_info": {
   "codemirror_mode": {
    "name": "ipython",
    "version": 3
   },
   "file_extension": ".py",
   "mimetype": "text/x-python",
   "name": "python",
   "nbconvert_exporter": "python",
   "pygments_lexer": "ipython3",
   "version": "3.10.6"
  },
  "orig_nbformat": 4
 },
 "nbformat": 4,
 "nbformat_minor": 2
}
